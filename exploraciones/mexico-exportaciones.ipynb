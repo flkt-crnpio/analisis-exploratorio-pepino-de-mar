{
 "cells": [
  {
   "cell_type": "code",
   "execution_count": 1,
   "id": "3453e2f0-6803-430f-85a6-51b9bf8277f9",
   "metadata": {},
   "outputs": [
    {
     "name": "stdout",
     "output_type": "stream",
     "text": [
      "(578, 24)\n"
     ]
    }
   ],
   "source": [
    "import pandas as pd\n",
    "\n",
    "df = pd.read_csv('../datos/originales/mexico_exportaciones.csv')\n",
    "\n",
    "print(df.shape)"
   ]
  },
  {
   "cell_type": "code",
   "execution_count": 2,
   "id": "bac8f023-3eaf-4a97-88f3-2e4fd900b965",
   "metadata": {},
   "outputs": [
    {
     "name": "stdout",
     "output_type": "stream",
     "text": [
      "<class 'pandas.core.frame.DataFrame'>\n",
      "RangeIndex: 578 entries, 0 to 577\n",
      "Data columns (total 24 columns):\n",
      " #   Column                        Non-Null Count  Dtype  \n",
      "---  ------                        --------------  -----  \n",
      " 0   Partida Aduanera              578 non-null    int64  \n",
      " 1   Descripcion Partida Aduanera  578 non-null    object \n",
      " 2   Aduana                        578 non-null    object \n",
      " 3   DUA                           578 non-null    object \n",
      " 4   Fecha                         578 non-null    object \n",
      " 5   Cod. Tributario               578 non-null    object \n",
      " 6   Exportador                    578 non-null    object \n",
      " 7   Ciudad Exportador             307 non-null    object \n",
      " 8   Dirección Exportador          558 non-null    object \n",
      " 9   Estado Exportador             268 non-null    object \n",
      " 10  Importador                    409 non-null    object \n",
      " 11  Ciudad Importador             115 non-null    object \n",
      " 12  Dirección Importador          313 non-null    object \n",
      " 13  Qty 1                         578 non-null    float64\n",
      " 14  Unid 1                        578 non-null    object \n",
      " 15  Qty 2                         578 non-null    float64\n",
      " 16  Unid 2                        578 non-null    object \n",
      " 17  U$ FOB Tot                    578 non-null    float64\n",
      " 18  U$ FOB Unit 1                 578 non-null    float64\n",
      " 19  U$ FOB Unit 2                 578 non-null    float64\n",
      " 20  País Destino                  578 non-null    object \n",
      " 21  Vía                           578 non-null    object \n",
      " 22  Descripción Comercial         578 non-null    object \n",
      " 23  Regimen                       578 non-null    object \n",
      "dtypes: float64(5), int64(1), object(18)\n",
      "memory usage: 108.5+ KB\n",
      "None\n"
     ]
    }
   ],
   "source": [
    "print(df.info())"
   ]
  },
  {
   "cell_type": "code",
   "execution_count": 3,
   "id": "9da6a7ed-f724-415d-b026-0753b04bdef7",
   "metadata": {},
   "outputs": [
    {
     "name": "stdout",
     "output_type": "stream",
     "text": [
      "        Partida Aduanera                       Descripcion Partida Aduanera  \\\n",
      "count       5.780000e+02                                                578   \n",
      "unique               NaN                                                  2   \n",
      "top                  NaN  LOS DEMÁS PEPINOS DE MAR (STICHOPUS JAPONICUS,...   \n",
      "freq                 NaN                                                294   \n",
      "mean        9.456817e+08                                                NaN   \n",
      "std         6.491698e+08                                                NaN   \n",
      "min         3.081999e+08                                                NaN   \n",
      "25%         3.081999e+08                                                NaN   \n",
      "50%         3.081999e+08                                                NaN   \n",
      "75%         1.605610e+09                                                NaN   \n",
      "max         1.605610e+09                                                NaN   \n",
      "\n",
      "               Aduana                             DUA       Fecha  \\\n",
      "count             578                             578         578   \n",
      "unique             11                             449         362   \n",
      "top     TIJUANA- B.C.  20200616-ASF080409277-0011938   16/06/2020   \n",
      "freq              302                               6           8   \n",
      "mean              NaN                             NaN         NaN   \n",
      "std               NaN                             NaN         NaN   \n",
      "min               NaN                             NaN         NaN   \n",
      "25%               NaN                             NaN         NaN   \n",
      "50%               NaN                             NaN         NaN   \n",
      "75%               NaN                             NaN         NaN   \n",
      "max               NaN                             NaN         NaN   \n",
      "\n",
      "        Cod. Tributario                                         Exportador  \\\n",
      "count               578                                                578   \n",
      "unique               78                                                 78   \n",
      "top     PPS1208244S2     SOCIEDAD COOPERATIVA DE PRODUCCION PESQUERA SE...   \n",
      "freq                 48                                                 48   \n",
      "mean                NaN                                                NaN   \n",
      "std                 NaN                                                NaN   \n",
      "min                 NaN                                                NaN   \n",
      "25%                 NaN                                                NaN   \n",
      "50%                 NaN                                                NaN   \n",
      "75%                 NaN                                                NaN   \n",
      "max                 NaN                                                NaN   \n",
      "\n",
      "       Ciudad Exportador  Dirección Exportador      Estado Exportador  ...  \\\n",
      "count                307                   558                    268  ...   \n",
      "unique                27                   120                     11  ...   \n",
      "top             Ensenada  AV. ACUEDUCTO 6075-A  Baja California Norte  ...   \n",
      "freq                  64                    32                     92  ...   \n",
      "mean                 NaN                   NaN                    NaN  ...   \n",
      "std                  NaN                   NaN                    NaN  ...   \n",
      "min                  NaN                   NaN                    NaN  ...   \n",
      "25%                  NaN                   NaN                    NaN  ...   \n",
      "50%                  NaN                   NaN                    NaN  ...   \n",
      "75%                  NaN                   NaN                    NaN  ...   \n",
      "max                  NaN                   NaN                    NaN  ...   \n",
      "\n",
      "       Unid 1         Qty 2 Unid 2     U$ FOB Tot U$ FOB Unit 1  \\\n",
      "count     578    578.000000    578     578.000000    578.000000   \n",
      "unique      1           NaN      3            NaN           NaN   \n",
      "top        KG           NaN     KG            NaN           NaN   \n",
      "freq      578           NaN    474            NaN           NaN   \n",
      "mean      NaN   2833.849567    NaN   27688.078478     46.649254   \n",
      "std       NaN   4468.610423    NaN   42580.211560     64.547533   \n",
      "min       NaN      2.000000    NaN       0.000000      0.000000   \n",
      "25%       NaN    365.250000    NaN    4004.732500      8.000000   \n",
      "50%       NaN   1001.500000    NaN   11390.870000     21.218500   \n",
      "75%       NaN   2693.750000    NaN   32831.232500     55.749250   \n",
      "max       NaN  29300.000000    NaN  368400.010000    402.877000   \n",
      "\n",
      "        U$ FOB Unit 2    País Destino        Vía  Descripción Comercial  \\\n",
      "count      578.000000             578        578                    578   \n",
      "unique            NaN               8          3                    271   \n",
      "top               NaN  ESTADOS UNIDOS  CARRETERO        PEPINOS DE MAR.   \n",
      "freq              NaN             323        346                     41   \n",
      "mean        33.516993             NaN        NaN                    NaN   \n",
      "std         49.714003             NaN        NaN                    NaN   \n",
      "min          0.000000             NaN        NaN                    NaN   \n",
      "25%          4.000000             NaN        NaN                    NaN   \n",
      "50%         10.709000             NaN        NaN                    NaN   \n",
      "75%         41.750000             NaN        NaN                    NaN   \n",
      "max        303.030000             NaN        NaN                    NaN   \n",
      "\n",
      "                                      Regimen  \n",
      "count                                     578  \n",
      "unique                                      3  \n",
      "top     IMPORTACION O EXPORTACION DEFINITIVA.  \n",
      "freq                                      377  \n",
      "mean                                      NaN  \n",
      "std                                       NaN  \n",
      "min                                       NaN  \n",
      "25%                                       NaN  \n",
      "50%                                       NaN  \n",
      "75%                                       NaN  \n",
      "max                                       NaN  \n",
      "\n",
      "[11 rows x 24 columns]\n"
     ]
    }
   ],
   "source": [
    "print(df.describe(include='all'))"
   ]
  },
  {
   "cell_type": "code",
   "execution_count": 4,
   "id": "0a15c7bb-1f0a-4580-9aef-0c25f346ba55",
   "metadata": {},
   "outputs": [
    {
     "name": "stdout",
     "output_type": "stream",
     "text": [
      "<class 'pandas.core.frame.DataFrame'>\n",
      "RangeIndex: 578 entries, 0 to 577\n",
      "Data columns (total 15 columns):\n",
      " #   Column                 Non-Null Count  Dtype  \n",
      "---  ------                 --------------  -----  \n",
      " 0   Aduana                 578 non-null    object \n",
      " 1   Fecha                  578 non-null    object \n",
      " 2   Cod. Tributario        578 non-null    object \n",
      " 3   Exportador             578 non-null    object \n",
      " 4   Importador             409 non-null    object \n",
      " 5   Qty 1                  578 non-null    float64\n",
      " 6   Unid 1                 578 non-null    object \n",
      " 7   Qty 2                  578 non-null    float64\n",
      " 8   Unid 2                 578 non-null    object \n",
      " 9   U$ FOB Tot             578 non-null    float64\n",
      " 10  U$ FOB Unit 1          578 non-null    float64\n",
      " 11  U$ FOB Unit 2          578 non-null    float64\n",
      " 12  País Destino           578 non-null    object \n",
      " 13  Vía                    578 non-null    object \n",
      " 14  Descripción Comercial  578 non-null    object \n",
      "dtypes: float64(5), object(10)\n",
      "memory usage: 67.9+ KB\n",
      "None\n"
     ]
    }
   ],
   "source": [
    "ndf = df.drop(['Partida Aduanera', 'Descripcion Partida Aduanera', 'DUA','Ciudad Importador', 'Dirección Importador', 'Dirección Exportador', 'Ciudad Exportador', 'Estado Exportador', 'Regimen'], axis=1)\n",
    "print(ndf.info())"
   ]
  },
  {
   "cell_type": "code",
   "execution_count": 5,
   "id": "8babab48-ed98-4427-92ba-c69ca3aed3a0",
   "metadata": {},
   "outputs": [
    {
     "name": "stdout",
     "output_type": "stream",
     "text": [
      "               Aduana       Fecha  Cod. Tributario  \\\n",
      "count             578         578              578   \n",
      "unique             11         362               78   \n",
      "top     TIJUANA- B.C.  16/06/2020  PPS1208244S2      \n",
      "freq              302           8               48   \n",
      "\n",
      "                                               Exportador  \\\n",
      "count                                                 578   \n",
      "unique                                                 78   \n",
      "top     SOCIEDAD COOPERATIVA DE PRODUCCION PESQUERA SE...   \n",
      "freq                                                   48   \n",
      "\n",
      "                             Importador Unid 1 Unid 2    País Destino  \\\n",
      "count                               409    578    578             578   \n",
      "unique                              135      1      3               8   \n",
      "top     PULPITO NEGRO WHOLESALE SEAFOOD     KG     KG  ESTADOS UNIDOS   \n",
      "freq                                 23    578    474             323   \n",
      "\n",
      "              Vía Descripción Comercial  \n",
      "count         578                   578  \n",
      "unique          3                   271  \n",
      "top     CARRETERO       PEPINOS DE MAR.  \n",
      "freq          346                    41  \n"
     ]
    }
   ],
   "source": [
    "print(ndf.describe(include='object'))"
   ]
  },
  {
   "cell_type": "code",
   "execution_count": 6,
   "id": "e99c7cc4-c386-46af-96f6-d9002ba2ec15",
   "metadata": {},
   "outputs": [
    {
     "name": "stdout",
     "output_type": "stream",
     "text": [
      "              Qty 1         Qty 2     U$ FOB Tot  U$ FOB Unit 1  U$ FOB Unit 2\n",
      "count    578.000000    578.000000     578.000000     578.000000     578.000000\n",
      "mean    1218.181644   2833.849567   27688.078478      46.649254      33.516993\n",
      "std     4191.598823   4468.610423   42580.211560      64.547533      49.714003\n",
      "min        0.000000      2.000000       0.000000       0.000000       0.000000\n",
      "25%      200.000000    365.250000    4004.732500       8.000000       4.000000\n",
      "50%      526.030000   1001.500000   11390.870000      21.218500      10.709000\n",
      "75%     1200.000000   2693.750000   32831.232500      55.749250      41.750000\n",
      "max    95484.000000  29300.000000  368400.010000     402.877000     303.030000\n"
     ]
    }
   ],
   "source": [
    "print(ndf.describe())"
   ]
  },
  {
   "cell_type": "code",
   "execution_count": null,
   "id": "5974aa6d-5cff-472e-b9e2-9bc05bbed7c4",
   "metadata": {},
   "outputs": [],
   "source": []
  }
 ],
 "metadata": {
  "kernelspec": {
   "display_name": "Python 3 (ipykernel)",
   "language": "python",
   "name": "python3"
  },
  "language_info": {
   "codemirror_mode": {
    "name": "ipython",
    "version": 3
   },
   "file_extension": ".py",
   "mimetype": "text/x-python",
   "name": "python",
   "nbconvert_exporter": "python",
   "pygments_lexer": "ipython3",
   "version": "3.13.3"
  }
 },
 "nbformat": 4,
 "nbformat_minor": 5
}
