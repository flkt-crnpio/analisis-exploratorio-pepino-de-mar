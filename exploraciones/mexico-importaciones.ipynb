{
 "cells": [
  {
   "cell_type": "code",
   "execution_count": 1,
   "id": "22e96b17-64c8-42b1-b814-ebd9ef33d594",
   "metadata": {},
   "outputs": [
    {
     "name": "stdout",
     "output_type": "stream",
     "text": [
      "(12, 26)\n"
     ]
    }
   ],
   "source": [
    "import pandas as pd\n",
    "\n",
    "df = pd.read_csv('../datos/originales/mexico_importaciones.csv')\n",
    "\n",
    "print(df.shape)"
   ]
  },
  {
   "cell_type": "code",
   "execution_count": 2,
   "id": "cb314db7-44e3-4281-938a-1aaacf204649",
   "metadata": {},
   "outputs": [
    {
     "name": "stdout",
     "output_type": "stream",
     "text": [
      "<class 'pandas.core.frame.DataFrame'>\n",
      "RangeIndex: 12 entries, 0 to 11\n",
      "Data columns (total 26 columns):\n",
      " #   Column                        Non-Null Count  Dtype  \n",
      "---  ------                        --------------  -----  \n",
      " 0   Partida Aduanera              12 non-null     int64  \n",
      " 1   Descripcion Partida Aduanera  12 non-null     object \n",
      " 2   Aduana                        12 non-null     object \n",
      " 3   DUA                           12 non-null     object \n",
      " 4   NroSerie                      12 non-null     int64  \n",
      " 5   Fecha                         12 non-null     object \n",
      " 6   Cod. Tributario               12 non-null     object \n",
      " 7   Importador                    12 non-null     object \n",
      " 8   Ciudad Importador             7 non-null      object \n",
      " 9   Dirección Importador          12 non-null     object \n",
      " 10  Estado Importador             7 non-null      object \n",
      " 11  Exportador                    9 non-null      object \n",
      " 12  Ciudad Exportador             0 non-null      float64\n",
      " 13  Dirección Exportador          2 non-null      object \n",
      " 14  Qty 1                         12 non-null     float64\n",
      " 15  Unid 1                        12 non-null     object \n",
      " 16  Qty 2                         12 non-null     float64\n",
      " 17  Unid 2                        12 non-null     object \n",
      " 18  U$ FOB Tot                    12 non-null     float64\n",
      " 19  U$ FOB Unit 1                 12 non-null     float64\n",
      " 20  U$ FOB Unit 2                 12 non-null     float64\n",
      " 21  País Origen                   12 non-null     object \n",
      " 22  Pais de Compra                12 non-null     object \n",
      " 23  Vía                           12 non-null     object \n",
      " 24  Descripción Comercial         12 non-null     object \n",
      " 25  Regimen                       12 non-null     object \n",
      "dtypes: float64(6), int64(2), object(18)\n",
      "memory usage: 2.6+ KB\n",
      "None\n"
     ]
    }
   ],
   "source": [
    "print(df.info())"
   ]
  },
  {
   "cell_type": "code",
   "execution_count": 3,
   "id": "25f1a14f-8bf2-4b7c-909c-2e826b004a34",
   "metadata": {},
   "outputs": [
    {
     "name": "stdout",
     "output_type": "stream",
     "text": [
      "        Partida Aduanera Descripcion Partida Aduanera               Aduana  \\\n",
      "count       1.200000e+01                           12                   12   \n",
      "unique               NaN                            1                    3   \n",
      "top                  NaN              PEPINOS DE MAR.  CD. REYNOSA, TAMPS.   \n",
      "freq                 NaN                           12                    9   \n",
      "mean        1.605610e+09                          NaN                  NaN   \n",
      "std         0.000000e+00                          NaN                  NaN   \n",
      "min         1.605610e+09                          NaN                  NaN   \n",
      "25%         1.605610e+09                          NaN                  NaN   \n",
      "50%         1.605610e+09                          NaN                  NaN   \n",
      "75%         1.605610e+09                          NaN                  NaN   \n",
      "max         1.605610e+09                          NaN                  NaN   \n",
      "\n",
      "                                   DUA  NroSerie       Fecha  Cod. Tributario  \\\n",
      "count                               12      12.0          12               12   \n",
      "unique                               7       NaN           7                4   \n",
      "top     20191015-DPI1512193N9-9014995        NaN  15/10/2019  DPI1512193N9      \n",
      "freq                                 2       NaN           2                6   \n",
      "mean                               NaN       0.0         NaN              NaN   \n",
      "std                                NaN       0.0         NaN              NaN   \n",
      "min                                NaN       0.0         NaN              NaN   \n",
      "25%                                NaN       0.0         NaN              NaN   \n",
      "50%                                NaN       0.0         NaN              NaN   \n",
      "75%                                NaN       0.0         NaN              NaN   \n",
      "max                                NaN       0.0         NaN              NaN   \n",
      "\n",
      "                                               Importador Ciudad Importador  \\\n",
      "count                                                  12                 7   \n",
      "unique                                                  4                 2   \n",
      "top     DISTRIBUCION Y PROMOCION DE IMPORTACION Y EXPO...     Benito Juarez   \n",
      "freq                                                    6                 6   \n",
      "mean                                                  NaN               NaN   \n",
      "std                                                   NaN               NaN   \n",
      "min                                                   NaN               NaN   \n",
      "25%                                                   NaN               NaN   \n",
      "50%                                                   NaN               NaN   \n",
      "75%                                                   NaN               NaN   \n",
      "max                                                   NaN               NaN   \n",
      "\n",
      "                            Dirección Importador  ...         Qty 2 Unid 2  \\\n",
      "count                                         12  ...     12.000000     12   \n",
      "unique                                         4  ...           NaN      1   \n",
      "top     AVENIDA VILLAS DEL CARIBE MZA 33 L2 1164  ...           NaN     KG   \n",
      "freq                                           6  ...           NaN     12   \n",
      "mean                                         NaN  ...   5883.333333    NaN   \n",
      "std                                          NaN  ...   5509.303426    NaN   \n",
      "min                                          NaN  ...    600.000000    NaN   \n",
      "25%                                          NaN  ...   1750.000000    NaN   \n",
      "50%                                          NaN  ...   4100.000000    NaN   \n",
      "75%                                          NaN  ...   8350.000000    NaN   \n",
      "max                                          NaN  ...  18000.000000    NaN   \n",
      "\n",
      "           U$ FOB Tot U$ FOB Unit 1  U$ FOB Unit 2 País Origen  \\\n",
      "count       12.000000     12.000000      12.000000          12   \n",
      "unique            NaN           NaN            NaN           2   \n",
      "top               NaN           NaN            NaN   NICARAGUA   \n",
      "freq              NaN           NaN            NaN          11   \n",
      "mean    185383.329167     31.833083      31.833083         NaN   \n",
      "std     173818.454990      4.018929       4.018929         NaN   \n",
      "min      18000.000000     24.000000      24.000000         NaN   \n",
      "25%      52999.992500     30.000000      30.000000         NaN   \n",
      "50%     125999.990000     31.999000      31.999000         NaN   \n",
      "75%     255450.000000     32.000000      32.000000         NaN   \n",
      "max     576000.000000     39.000000      39.000000         NaN   \n",
      "\n",
      "        Pais de Compra        Vía                  Descripción Comercial  \\\n",
      "count               12         12                                     12   \n",
      "unique               2          1                                      8   \n",
      "top          NICARAGUA  CARRETERO  PEPINO DE MAR SECO HOLOTURIA MEXICANA   \n",
      "freq                11         12                                      3   \n",
      "mean               NaN        NaN                                    NaN   \n",
      "std                NaN        NaN                                    NaN   \n",
      "min                NaN        NaN                                    NaN   \n",
      "25%                NaN        NaN                                    NaN   \n",
      "50%                NaN        NaN                                    NaN   \n",
      "75%                NaN        NaN                                    NaN   \n",
      "max                NaN        NaN                                    NaN   \n",
      "\n",
      "                                       Regimen  \n",
      "count                                       12  \n",
      "unique                                       4  \n",
      "top      IMPORTACION O EXPORTACION DEFINITIVA.  \n",
      "freq                                         6  \n",
      "mean                                       NaN  \n",
      "std                                        NaN  \n",
      "min                                        NaN  \n",
      "25%                                        NaN  \n",
      "50%                                        NaN  \n",
      "75%                                        NaN  \n",
      "max                                        NaN  \n",
      "\n",
      "[11 rows x 26 columns]\n"
     ]
    }
   ],
   "source": [
    "print(df.describe(include='all'))"
   ]
  },
  {
   "cell_type": "code",
   "execution_count": 4,
   "id": "97083364-acf4-4bb4-a0bc-46de9740bc9d",
   "metadata": {},
   "outputs": [
    {
     "name": "stdout",
     "output_type": "stream",
     "text": [
      "<class 'pandas.core.frame.DataFrame'>\n",
      "RangeIndex: 12 entries, 0 to 11\n",
      "Data columns (total 14 columns):\n",
      " #   Column                 Non-Null Count  Dtype  \n",
      "---  ------                 --------------  -----  \n",
      " 0   Aduana                 12 non-null     object \n",
      " 1   Fecha                  12 non-null     object \n",
      " 2   Cod. Tributario        12 non-null     object \n",
      " 3   Importador             12 non-null     object \n",
      " 4   Ciudad Importador      7 non-null      object \n",
      " 5   Dirección Importador   12 non-null     object \n",
      " 6   Estado Importador      7 non-null      object \n",
      " 7   Exportador             9 non-null      object \n",
      " 8   Dirección Exportador   2 non-null      object \n",
      " 9   Qty 1                  12 non-null     float64\n",
      " 10  U$ FOB Tot             12 non-null     float64\n",
      " 11  País Origen            12 non-null     object \n",
      " 12  Pais de Compra         12 non-null     object \n",
      " 13  Descripción Comercial  12 non-null     object \n",
      "dtypes: float64(2), object(12)\n",
      "memory usage: 1.4+ KB\n",
      "None\n"
     ]
    }
   ],
   "source": [
    "ndf = df.drop(['Regimen','Vía','U$ FOB Unit 2','U$ FOB Unit 1','Unid 2','Qty 2','Unid 1','Ciudad Exportador','NroSerie','DUA','Descripcion Partida Aduanera','Partida Aduanera'], axis=1)\n",
    "\n",
    "print(ndf.info())"
   ]
  },
  {
   "cell_type": "code",
   "execution_count": 5,
   "id": "fce59dcf-64d7-45d5-9b66-66938692e84a",
   "metadata": {},
   "outputs": [
    {
     "name": "stdout",
     "output_type": "stream",
     "text": [
      "                     Aduana       Fecha  Cod. Tributario  \\\n",
      "count                    12          12               12   \n",
      "unique                    3           7                4   \n",
      "top     CD. REYNOSA, TAMPS.  15/10/2019  DPI1512193N9      \n",
      "freq                      9           2                6   \n",
      "\n",
      "                                               Importador Ciudad Importador  \\\n",
      "count                                                  12                 7   \n",
      "unique                                                  4                 2   \n",
      "top     DISTRIBUCION Y PROMOCION DE IMPORTACION Y EXPO...     Benito Juarez   \n",
      "freq                                                    6                 6   \n",
      "\n",
      "                            Dirección Importador Estado Importador  \\\n",
      "count                                         12                 7   \n",
      "unique                                         4                 2   \n",
      "top     AVENIDA VILLAS DEL CARIBE MZA 33 L2 1164      Quintana Roo   \n",
      "freq                                           6                 6   \n",
      "\n",
      "                        Exportador Dirección Exportador País Origen  \\\n",
      "count                            9                    2          12   \n",
      "unique                           3                    1           2   \n",
      "top     INVERSIONES CK CARIBE S.A.         NOT DECLARED   NICARAGUA   \n",
      "freq                             6                    2          11   \n",
      "\n",
      "       Pais de Compra                  Descripción Comercial  \n",
      "count              12                                     12  \n",
      "unique              2                                      8  \n",
      "top         NICARAGUA  PEPINO DE MAR SECO HOLOTURIA MEXICANA  \n",
      "freq               11                                      3  \n"
     ]
    }
   ],
   "source": [
    "print(ndf.describe(include='object'))"
   ]
  },
  {
   "cell_type": "code",
   "execution_count": 6,
   "id": "958e4d68-1380-4b0d-b9bd-1537e2357cde",
   "metadata": {},
   "outputs": [
    {
     "name": "stdout",
     "output_type": "stream",
     "text": [
      "              Qty 1     U$ FOB Tot\n",
      "count     12.000000      12.000000\n",
      "mean    5883.333333  185383.329167\n",
      "std     5509.303426  173818.454990\n",
      "min      600.000000   18000.000000\n",
      "25%     1750.000000   52999.992500\n",
      "50%     4100.000000  125999.990000\n",
      "75%     8350.000000  255450.000000\n",
      "max    18000.000000  576000.000000\n"
     ]
    }
   ],
   "source": [
    "print(ndf.describe())"
   ]
  },
  {
   "cell_type": "code",
   "execution_count": 7,
   "id": "b3c9811b-6586-4483-884a-5c1f79d2e3f7",
   "metadata": {},
   "outputs": [
    {
     "name": "stdout",
     "output_type": "stream",
     "text": [
      "                                     Aduana       Fecha  Cod. Tributario  \\\n",
      "0                       CD. REYNOSA, TAMPS.  15/10/2019  DPI1512193N9      \n",
      "1                       CD. REYNOSA, TAMPS.  15/10/2019  DPI1512193N9      \n",
      "2                       CD. REYNOSA, TAMPS.  16/10/2019  DPI1512193N9      \n",
      "3                       CD. REYNOSA, TAMPS.  16/10/2019  DPI1512193N9      \n",
      "4                       CD. REYNOSA, TAMPS.  21/10/2019  DPI1512193N9      \n",
      "5                       CD. REYNOSA, TAMPS.  21/10/2019  DPI1512193N9      \n",
      "6                            CANCUN- Q. ROO  13/11/2019  ECS1605268R4      \n",
      "7                       CD. REYNOSA, TAMPS.  29/01/2020  Sin RFC           \n",
      "8                       CD. REYNOSA, TAMPS.  30/01/2020  Sin RFC           \n",
      "9                       CD. REYNOSA, TAMPS.  30/01/2020  Sin RFC           \n",
      "10  CIUDAD HIDALGO, CIUDAD HIDALGO, CHIAPAS  20/01/2021  MCU150506EI7      \n",
      "11  CIUDAD HIDALGO, CIUDAD HIDALGO, CHIAPAS  20/01/2021  MCU150506EI7      \n",
      "\n",
      "                                           Importador Ciudad Importador  \\\n",
      "0   DISTRIBUCION Y PROMOCION DE IMPORTACION Y EXPO...     Benito Juarez   \n",
      "1   DISTRIBUCION Y PROMOCION DE IMPORTACION Y EXPO...     Benito Juarez   \n",
      "2   DISTRIBUCION Y PROMOCION DE IMPORTACION Y EXPO...     Benito Juarez   \n",
      "3   DISTRIBUCION Y PROMOCION DE IMPORTACION Y EXPO...     Benito Juarez   \n",
      "4   DISTRIBUCION Y PROMOCION DE IMPORTACION Y EXPO...     Benito Juarez   \n",
      "5   DISTRIBUCION Y PROMOCION DE IMPORTACION Y EXPO...     Benito Juarez   \n",
      "6          EXPORTADORA CAMPECHE STARFISH S.A. DE C.V.          Campeche   \n",
      "7                                    Sin Razon Social               NaN   \n",
      "8                                    Sin Razon Social               NaN   \n",
      "9                                    Sin Razon Social               NaN   \n",
      "10                            MARE CUCUMERIS SA DE CV               NaN   \n",
      "11                            MARE CUCUMERIS SA DE CV               NaN   \n",
      "\n",
      "                                 Dirección Importador Estado Importador  \\\n",
      "0            AVENIDA VILLAS DEL CARIBE MZA 33 L2 1164      Quintana Roo   \n",
      "1            AVENIDA VILLAS DEL CARIBE MZA 33 L2 1164      Quintana Roo   \n",
      "2            AVENIDA VILLAS DEL CARIBE MZA 33 L2 1164      Quintana Roo   \n",
      "3            AVENIDA VILLAS DEL CARIBE MZA 33 L2 1164      Quintana Roo   \n",
      "4            AVENIDA VILLAS DEL CARIBE MZA 33 L2 1164      Quintana Roo   \n",
      "5            AVENIDA VILLAS DEL CARIBE MZA 33 L2 1164      Quintana Roo   \n",
      "6                  AVENIDA LUIS DONALDO COLOSIO 530-B          Campeche   \n",
      "7                                       Sin Direccion               NaN   \n",
      "8                                       Sin Direccion               NaN   \n",
      "9                                       Sin Direccion               NaN   \n",
      "10  LUIS DONALDO COLOSIO 530 B PRADO CALLE LAZARET...               NaN   \n",
      "11  LUIS DONALDO COLOSIO 530 B PRADO CALLE LAZARET...               NaN   \n",
      "\n",
      "                    Exportador Dirección Exportador    Qty 1  U$ FOB Tot  \\\n",
      "0   INVERSIONES CK CARIBE S.A.                  NaN   1000.0    30000.00   \n",
      "1   INVERSIONES CK CARIBE S.A.                  NaN   1000.0    31999.97   \n",
      "2   INVERSIONES CK CARIBE S.A.                  NaN   2000.0    60000.00   \n",
      "3   INVERSIONES CK CARIBE S.A.                  NaN   3000.0    95999.99   \n",
      "4   INVERSIONES CK CARIBE S.A.                  NaN   7800.0   249600.00   \n",
      "5   INVERSIONES CK CARIBE S.A.                  NaN   5200.0   155999.99   \n",
      "6              YM TRADING INTL                  NaN    600.0    18000.00   \n",
      "7                          NaN                  NaN  13000.0   416000.00   \n",
      "8                          NaN                  NaN   2000.0    78000.00   \n",
      "9                          NaN                  NaN  10000.0   240000.00   \n",
      "10   INVERSIONES CK CARIBE S.A         NOT DECLARED   7000.0   273000.00   \n",
      "11   INVERSIONES CK CARIBE S.A         NOT DECLARED  18000.0   576000.00   \n",
      "\n",
      "           País Origen        Pais de Compra  \\\n",
      "0            NICARAGUA             NICARAGUA   \n",
      "1            NICARAGUA             NICARAGUA   \n",
      "2            NICARAGUA             NICARAGUA   \n",
      "3            NICARAGUA             NICARAGUA   \n",
      "4            NICARAGUA             NICARAGUA   \n",
      "5            NICARAGUA             NICARAGUA   \n",
      "6   ZONA FRANCA MÉXICO  PAÍSES NO DECLARADOS   \n",
      "7            NICARAGUA             NICARAGUA   \n",
      "8            NICARAGUA             NICARAGUA   \n",
      "9            NICARAGUA             NICARAGUA   \n",
      "10           NICARAGUA             NICARAGUA   \n",
      "11           NICARAGUA             NICARAGUA   \n",
      "\n",
      "                                Descripción Comercial  \n",
      "0               PEPINO DE MAR SECO HOLOTURIA MEXICANA  \n",
      "1             PEPINO DE MAR SECO HOLOTURIA FLORIDIANA  \n",
      "2               PEPINO DE MAR SECO HOLOTURIA MEXICANA  \n",
      "3             PEPINO DE MAR SECO HOLOTURIA FLORIDIANA  \n",
      "4             PEPINO DE MAR SECO HOLOTURIA FLORIDIANA  \n",
      "5               PEPINO DE MAR SECO HOLOTURIA MEXICANA  \n",
      "6   PEPINO DE MAR SECO HOLOTHURIA MEXICANA PEPINO ...  \n",
      "7   PEPINO DE MAR SECO FLORIDIANA HOLOTURIA FLORID...  \n",
      "8   CAJAS CON PEPINO DE MAR CAFE SECO ISOSTICHOPUS...  \n",
      "9   CAJAS CON PEPINO DE MAR SECO MEXICANA HOLTURIA...  \n",
      "10                        PEPINO DE MAR SECO MEXICANA  \n",
      "11                      PEPINO DE MAR SECO FLORIDIANA  \n"
     ]
    }
   ],
   "source": [
    "print(ndf.head(12))"
   ]
  },
  {
   "cell_type": "code",
   "execution_count": null,
   "id": "29a56213-80b1-4c94-911f-f32708579945",
   "metadata": {},
   "outputs": [],
   "source": []
  }
 ],
 "metadata": {
  "kernelspec": {
   "display_name": "Python 3 (ipykernel)",
   "language": "python",
   "name": "python3"
  },
  "language_info": {
   "codemirror_mode": {
    "name": "ipython",
    "version": 3
   },
   "file_extension": ".py",
   "mimetype": "text/x-python",
   "name": "python",
   "nbconvert_exporter": "python",
   "pygments_lexer": "ipython3",
   "version": "3.13.3"
  }
 },
 "nbformat": 4,
 "nbformat_minor": 5
}
